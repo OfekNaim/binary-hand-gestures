{
  "cells": [
    {
      "cell_type": "markdown",
      "metadata": {
        "collapsed": false,
        "id": "XDDbguyGU8Fs"
      },
      "source": [
        " # Mid-semester assignment Part 1 - Basics of deep learning\n",
        "Hello dear students,<br> this is the template notebook. Please copy it into your drive and open as Google Colab nootebook\".\n",
        "\n",
        "---\n",
        "<br>\n",
        "\n",
        "### Name and ID:\n",
        "Student 1: Ofek Naim 314728996\n",
        "<br>\n",
        "Student 2: Hinoy Solomon 205417678"
      ]
    },
    {
      "cell_type": "markdown",
      "metadata": {
        "id": "JLkWLC8f3HZI"
      },
      "source": [
        "## Sign Language Digits With NumPy\n",
        "Sign Language Digits dataset contains 5,000 grayscale images in 10 categories. The images show individual articles of hand sign at low resolution (28 by 28 pixels), as seen here:\n",
        "\n",
        "<table>\n",
        "  <tr><td>\n",
        "    <img src=\"https://www.researchgate.net/publication/344389112/figure/fig8/AS:941467451260937@1601474740275/Sample-images-from-ASL-with-digits-dataset.png\"\n",
        "         alt=\"Fashion MNIST sprite\"  width=\"600\">\n",
        "  </td></tr>\n",
        "  \n",
        "</table>\n",
        "\n"
      ]
    },
    {
      "cell_type": "markdown",
      "metadata": {
        "id": "WiRxNFCn3Vxd"
      },
      "source": [
        "\n",
        "\n",
        "The images are 28x28 NumPy arrays, with pixel values ranging between 0 and 255. The *labels* are an array of numbers ranging from '0' to '9'. These correspond to the *class* of hand sign digit the image represents:\n",
        "\n",
        "<table>\n",
        "  <tr>\n",
        "    <th>Label</th>\n",
        "    <th>Class</th>\n",
        "  </tr>\n",
        "  <tr>\n",
        "    <td>0</td>\n",
        "    <td>Hand Sign Zero</td>\n",
        "  </tr>\n",
        "  <tr>\n",
        "    <td>1</td>\n",
        "    <td>Hand Sign One</td>\n",
        "  </tr>\n",
        "    <tr>\n",
        "    <td>2</td>\n",
        "    <td>Hand Sign Two</td>\n",
        "  </tr>\n",
        "    <tr>\n",
        "    <td>3</td>\n",
        "    <td>Hand Sign Three</td>\n",
        "  </tr>\n",
        "    <tr>\n",
        "    <td>4</td>\n",
        "    <td>Hand Sign Four</td>\n",
        "  </tr>\n",
        "    <tr>\n",
        "    <td>5</td>\n",
        "    <td>Hand Sign Five</td>\n",
        "  </tr>\n",
        "    <tr>\n",
        "    <td>6</td>\n",
        "    <td>Hand Sign Six</td>\n",
        "  </tr>\n",
        "    <tr>\n",
        "    <td>7</td>\n",
        "    <td>Hand Sign Seven</td>\n",
        "  </tr>\n",
        "    <tr>\n",
        "    <td>8</td>\n",
        "    <td>Hand Sign Eight</td>\n",
        "  </tr>\n",
        "    <tr>\n",
        "    <td>9</td>\n",
        "    <td>Hand Sign Nine</td>\n",
        "  </tr>\n",
        "</table>\n",
        "\n",
        "<br>\n",
        "\n",
        "# Goodluck!"
      ]
    },
    {
      "cell_type": "markdown",
      "metadata": {
        "collapsed": false,
        "id": "4K84YZ_QU8Fv"
      },
      "source": [
        "#Neural Network in plain NumPy"
      ]
    },
    {
      "cell_type": "markdown",
      "metadata": {
        "id": "QReFpU112hLT"
      },
      "source": [
        "## Import Libraries"
      ]
    },
    {
      "cell_type": "code",
      "execution_count": null,
      "metadata": {
        "id": "tLOHjUiFU8Fv",
        "colab": {
          "base_uri": "https://localhost:8080/"
        },
        "outputId": "1755d767-a0ce-473b-d5d1-bf26871f05c4"
      },
      "outputs": [
        {
          "output_type": "stream",
          "name": "stdout",
          "text": [
            "time: 890 µs (started: 2025-01-13 09:14:37 +00:00)\n"
          ]
        }
      ],
      "source": [
        "import numpy as np\n",
        "import matplotlib\n",
        "import matplotlib.pyplot as plt\n",
        "from sklearn.datasets import fetch_openml\n",
        "from sklearn.metrics import classification_report, confusion_matrix"
      ]
    },
    {
      "cell_type": "markdown",
      "metadata": {
        "id": "D5MsCpUv2tuj"
      },
      "source": [
        "## Download Dataset"
      ]
    },
    {
      "cell_type": "code",
      "execution_count": null,
      "metadata": {
        "colab": {
          "base_uri": "https://localhost:8080/"
        },
        "id": "SiM-d_4cV1aZ",
        "outputId": "f14915e4-72bc-4ab7-a9f5-341968f5541e"
      },
      "outputs": [
        {
          "output_type": "stream",
          "name": "stdout",
          "text": [
            "time: 11.1 s (started: 2025-01-13 09:14:40 +00:00)\n"
          ]
        }
      ],
      "source": [
        "%%capture\n",
        "!pip install ipython-autotime\n",
        "!pip install -U --no-cache-dir gdown --pre\n",
        "!gdown --id 1-0fhqH8tXKPb60C_b4aUHT7f-J4O6Ezq\n",
        "%load_ext autotime"
      ]
    },
    {
      "cell_type": "markdown",
      "metadata": {
        "id": "uj30jTHwXNXp"
      },
      "source": [
        "Loading the dataset as NumPy arrays:\n",
        "\n",
        "* The `dataset` file is a NumPy array containing the image pixles. As you can see, it includes 5,000 rows for each image and 784 columns for each pixel in the image (28x28).\n",
        "* The `labels` file is a NumPy array containing the images labels. As you can see, it includes 5,000 rows for each image corresponding to the dataset."
      ]
    },
    {
      "cell_type": "code",
      "execution_count": null,
      "metadata": {
        "colab": {
          "base_uri": "https://localhost:8080/"
        },
        "id": "nbzv9ZYA2pyW",
        "outputId": "a29ccf70-0d8f-4e1b-d9a3-a9180a866ffb"
      },
      "outputs": [
        {
          "output_type": "stream",
          "name": "stdout",
          "text": [
            "Dataset shape: (5000, 784)\n",
            "Labels shape: (5000,)\n",
            "Unique labels before filtering: ['0' '1' '2' '3' '4' '5' '6' '7' '8' '9']\n",
            "time: 54.3 ms (started: 2025-01-13 09:14:51 +00:00)\n"
          ]
        }
      ],
      "source": [
        "loaded_data = np.load('/content/dataset_labels.npz')\n",
        "X, Y = loaded_data['dataset'], loaded_data['labels']\n",
        "print(f'Dataset shape: {X.shape}\\nLabels shape: {Y.shape}')\n",
        "print(f\"Unique labels before filtering: {np.unique(Y)}\")\n",
        "\n"
      ]
    },
    {
      "cell_type": "markdown",
      "metadata": {
        "id": "GPBGGKtSoVpU"
      },
      "source": [
        "## Data preprocessing (10%)"
      ]
    },
    {
      "cell_type": "markdown",
      "metadata": {
        "id": "LZfq8otp-wXY"
      },
      "source": [
        "### Feature scaling"
      ]
    },
    {
      "cell_type": "code",
      "execution_count": null,
      "metadata": {
        "colab": {
          "base_uri": "https://localhost:8080/"
        },
        "id": "7MZtZIzzDIKe",
        "outputId": "331f73f1-f11d-4f27-f80d-c2563ddef560"
      },
      "outputs": [
        {
          "output_type": "stream",
          "name": "stdout",
          "text": [
            "(784, 5000)\n",
            "time: 13.6 ms (started: 2025-01-13 09:14:51 +00:00)\n"
          ]
        }
      ],
      "source": [
        "examples = Y.shape[0]\n",
        "y1 = Y.reshape(1, examples)\n",
        "X1 = X / 255\n",
        "X1 = X1.T\n",
        "print(X1.shape)"
      ]
    },
    {
      "cell_type": "markdown",
      "metadata": {
        "id": "i6K01j7A_Z4W"
      },
      "source": [
        "### Select two classes"
      ]
    },
    {
      "cell_type": "code",
      "execution_count": null,
      "metadata": {
        "colab": {
          "base_uri": "https://localhost:8080/"
        },
        "id": "7OuPZ0o8DNWq",
        "outputId": "a5e848d6-8482-4f81-994f-88eb2e6c0611"
      },
      "outputs": [
        {
          "output_type": "stream",
          "name": "stdout",
          "text": [
            "(1000, 784)\n",
            "(1000,)\n",
            "Unique labels in filtered dataset: [0 1]\n",
            "time: 3.89 ms (started: 2025-01-13 09:14:51 +00:00)\n"
          ]
        }
      ],
      "source": [
        "#TODO: select two classes (for example 2-Pullover and 4-Coat)\n",
        "\n",
        "\n",
        "filter = (Y == \"2\") | (Y == \"7\")\n",
        "\n",
        "X, Y = X[filter], Y[filter]\n",
        "\n",
        "Y = (Y == \"7\").astype(int)\n",
        "\n",
        "print(X.shape)\n",
        "print(Y.shape)\n",
        "print(f\"Unique labels in filtered dataset: {np.unique(Y)}\")\n",
        "\n",
        "\n",
        "\n"
      ]
    },
    {
      "cell_type": "markdown",
      "metadata": {
        "id": "cn5UPcIQH2jS"
      },
      "source": [
        "### Split the data into Train set and Test set"
      ]
    },
    {
      "cell_type": "code",
      "execution_count": null,
      "metadata": {
        "colab": {
          "base_uri": "https://localhost:8080/"
        },
        "id": "FBUI2DZmhd0y",
        "outputId": "a12986f3-9ee8-4f11-ce1f-d19c64a2389d"
      },
      "outputs": [
        {
          "output_type": "stream",
          "name": "stdout",
          "text": [
            "time: 4.43 ms (started: 2025-01-13 09:14:51 +00:00)\n"
          ]
        }
      ],
      "source": [
        "# TODO: Split the data into Train set and Test set (The use of libraries other than Numpy is strictly prohibited)\n",
        "from sklearn.utils import shuffle\n",
        "\n",
        "split_ratio = 0.8\n",
        "\n",
        "# Use shuffle on the train data\n",
        "X, y = shuffle(X, Y)\n",
        "\n",
        "split_index = int(split_ratio * X.shape[0])\n",
        "\n",
        "\n",
        "X_train, X_test = X[:split_index], X[split_index:]\n",
        "Y_train, Y_test = y[:split_index], y[split_index:]\n",
        "\n",
        "\n",
        "Y_train, Y_test = Y_train.reshape( Y_train.shape[0], 1), Y_test.reshape(Y_test.shape[0],1)\n"
      ]
    },
    {
      "cell_type": "code",
      "source": [
        "#Normalize the data\n",
        "\n",
        "X_train = X_train.T/255\n",
        "X_test = X_test.T/255"
      ],
      "metadata": {
        "colab": {
          "base_uri": "https://localhost:8080/"
        },
        "id": "nNm2n3Xg-qoC",
        "outputId": "3ead854f-9b39-4231-d6a5-a6da842f1105"
      },
      "execution_count": null,
      "outputs": [
        {
          "output_type": "stream",
          "name": "stdout",
          "text": [
            "time: 2.81 ms (started: 2025-01-13 09:14:51 +00:00)\n"
          ]
        }
      ]
    },
    {
      "cell_type": "markdown",
      "metadata": {
        "id": "gg7D7fwGH9Yv"
      },
      "source": [
        "### Test yourself"
      ]
    },
    {
      "cell_type": "code",
      "execution_count": null,
      "metadata": {
        "colab": {
          "base_uri": "https://localhost:8080/",
          "height": 441
        },
        "id": "wkLl0PSyDR9S",
        "outputId": "8ef5cd01-94ec-41e9-cae0-f8bbb8f7a711"
      },
      "outputs": [
        {
          "output_type": "display_data",
          "data": {
            "text/plain": [
              "<Figure size 640x480 with 1 Axes>"
            ],
            "image/png": "[encoded data removed]"
          },
          "metadata": {}
        },
        {
          "output_type": "execute_result",
          "data": {
            "text/plain": [
              "1"
            ]
          },
          "metadata": {},
          "execution_count": 52
        },
        {
          "output_type": "stream",
          "name": "stdout",
          "text": [
            "time: 61.9 ms (started: 2025-01-13 09:14:51 +00:00)\n"
          ]
        }
      ],
      "source": [
        "# Test yourself (Check that the classes you have selected are actually displayed)\n",
        "%matplotlib inline\n",
        "from numpy import random\n",
        "\n",
        "i = random.randint(100)\n",
        "plt.imshow(X_train[:,i].reshape(28,28), cmap = matplotlib.cm.binary)\n",
        "plt.axis(\"off\")\n",
        "plt.show()\n",
        "Y_train[i,0]"
      ]
    },
    {
      "cell_type": "markdown",
      "metadata": {
        "id": "Q81OW5M7oCWZ"
      },
      "source": [
        "## Activation functions (10%)"
      ]
    },
    {
      "cell_type": "code",
      "execution_count": null,
      "metadata": {
        "colab": {
          "base_uri": "https://localhost:8080/"
        },
        "id": "nxruxXBsDmP-",
        "outputId": "d4c56311-ddf3-4bd6-a35f-6b361ddc867e"
      },
      "outputs": [
        {
          "output_type": "stream",
          "name": "stdout",
          "text": [
            "time: 680 µs (started: 2025-01-13 09:14:53 +00:00)\n"
          ]
        }
      ],
      "source": [
        "#TODO: Sigmoid activation function\n",
        "def sigmoid(z):\n",
        "    return (1/(1+np.exp(-z)))"
      ]
    },
    {
      "cell_type": "markdown",
      "metadata": {
        "id": "OBIAUcVboOG9"
      },
      "source": [
        "## Loss Function (10%)\n",
        "\n",
        "The BCE Loss function embodies the idea that the neural network should incur a substantial penalty (i.e., Loss tending toward infinity) when the predicted probability diverges significantly from the actual label of the training example. Conversely, the Loss should be zero (Loss = 0) when the predicted probability aligns perfectly with the label of the training example. In simpler terms, the BCE Loss should be zero in the following two situations:\n",
        "\n",
        "- When the example has a positive label (${y} = 1$), the neural network should be entirely confident that the example belongs to the positive class, i.e., ($\\hat{p} = 1 $).\n",
        "- When the example has a negative label (${y} = 0$), the neural network should be entirely confident that the example does not belong to the positive class, i.e., ($\\hat{p} = 0 $).\n",
        "\n",
        "**It's important to note that when working with computers, extremely high or low values can sometimes be unmanageable and might even lead to system crashes. To address this, you must be aware of the range of values that cause the logarithm to yield infinity or negative infinity. Ensure you handle these edge cases within your function.**\n"
      ]
    },
    {
      "cell_type": "code",
      "execution_count": null,
      "metadata": {
        "colab": {
          "base_uri": "https://localhost:8080/"
        },
        "id": "U0i2o9_KDUdQ",
        "outputId": "604e2b39-77d6-412e-e62e-f5335cf81afa"
      },
      "outputs": [
        {
          "output_type": "stream",
          "name": "stdout",
          "text": [
            "time: 881 µs (started: 2025-01-13 09:14:54 +00:00)\n"
          ]
        }
      ],
      "source": [
        "#TODO: Binary cross entropy\n",
        "def log_loss(y_hat, y):\n",
        "    epsilon = 1e-15\n",
        "    y_hat = np.clip(y_hat, epsilon, 1 - epsilon)\n",
        "\n",
        "\n",
        "    y_hat = np.asarray(y_hat, dtype=np.float64)\n",
        "    y = np.asarray(y, dtype=np.float64)\n",
        "\n",
        "\n",
        "    return -np.mean(y * np.log(y_hat) + (1 - y) * np.log(1 - y_hat))"
      ]
    },
    {
      "cell_type": "markdown",
      "metadata": {
        "id": "WY9DQPrJmvHZ"
      },
      "source": [
        "## NN Hyper Parameters"
      ]
    },
    {
      "cell_type": "code",
      "execution_count": null,
      "metadata": {
        "colab": {
          "base_uri": "https://localhost:8080/"
        },
        "id": "qGCU_QYRnJap",
        "outputId": "0faa134e-bb7e-4062-f6ac-0c7732d624ed"
      },
      "outputs": [
        {
          "output_type": "stream",
          "name": "stdout",
          "text": [
            "time: 648 µs (started: 2025-01-13 09:14:56 +00:00)\n"
          ]
        }
      ],
      "source": [
        "input_layer = X_train.shape[0] # 28X28 = 784\n",
        "hidden_layer = 128\n",
        "learning_rate = 0.01\n",
        "epochs = 100"
      ]
    },
    {
      "cell_type": "markdown",
      "metadata": {
        "id": "M6SdHpc2m3vV"
      },
      "source": [
        "## Weight and Bias Initialization"
      ]
    },
    {
      "cell_type": "code",
      "execution_count": null,
      "metadata": {
        "colab": {
          "base_uri": "https://localhost:8080/"
        },
        "id": "IVRoMGxTnLZI",
        "outputId": "fe23f09a-78d2-429a-bba0-c14f9d8e3c11"
      },
      "outputs": [
        {
          "output_type": "stream",
          "name": "stdout",
          "text": [
            "(128, 784)\n",
            "(128, 1)\n",
            "(1, 128)\n",
            "(1, 1)\n",
            "time: 14.2 ms (started: 2025-01-13 09:14:57 +00:00)\n"
          ]
        }
      ],
      "source": [
        "W1 = np.random.randn(hidden_layer, input_layer)\n",
        "b1 = np.zeros((hidden_layer, 1))\n",
        "W2 = np.random.randn(1, hidden_layer)\n",
        "b2 = np.zeros((1, 1))\n",
        "\n",
        "print(W1.shape)\n",
        "print(b1.shape)\n",
        "print(W2.shape)\n",
        "print(b2.shape)"
      ]
    },
    {
      "cell_type": "markdown",
      "metadata": {
        "id": "fp-IaWECn6Hu"
      },
      "source": [
        "## Training (30%)"
      ]
    },
    {
      "cell_type": "code",
      "execution_count": null,
      "metadata": {
        "colab": {
          "base_uri": "https://localhost:8080/"
        },
        "id": "4tdlcCGLDo7F",
        "outputId": "aac2029e-01cf-4acd-bae1-8c5198eaf2d8"
      },
      "outputs": [
        {
          "output_type": "stream",
          "name": "stderr",
          "text": [
            "<ipython-input-58-df5ed6c7e0c0>:16: DeprecationWarning: Conversion of an array with ndim > 0 to a scalar is deprecated, and will error in future. Ensure you extract a single element from your array before performing this operation. (Deprecated NumPy 1.25.)\n",
            "  Yout = float(Y[j])\n"
          ]
        },
        {
          "output_type": "stream",
          "name": "stdout",
          "text": [
            "Epoch 0  Loss: 0.6466635591679271\n",
            "Epoch 1  Loss: 0.1939736927250777\n",
            "Epoch 2  Loss: 0.1278573993936232\n",
            "Epoch 3  Loss: 0.09651715623427695\n",
            "Epoch 4  Loss: 0.07692203760842958\n",
            "Epoch 5  Loss: 0.06329022784145405\n",
            "Epoch 6  Loss: 0.053295802272002396\n",
            "Epoch 7  Loss: 0.04571618774835717\n",
            "Epoch 8  Loss: 0.03981234099534989\n",
            "Epoch 9  Loss: 0.03511105004990146\n",
            "Epoch 10  Loss: 0.03129804182150761\n",
            "Epoch 11  Loss: 0.028157582836681745\n",
            "Epoch 12  Loss: 0.025536907792842185\n",
            "Epoch 13  Loss: 0.023324863595444376\n",
            "Epoch 14  Loss: 0.021438704690097538\n",
            "Epoch 15  Loss: 0.0198156400522996\n",
            "Epoch 16  Loss: 0.01840725625717773\n",
            "Epoch 17  Loss: 0.017175734223193125\n",
            "Epoch 18  Loss: 0.016091207846015934\n",
            "Epoch 19  Loss: 0.015129868194456211\n",
            "Epoch 20  Loss: 0.014272571403434915\n",
            "Epoch 21  Loss: 0.01350379922841037\n",
            "Epoch 22  Loss: 0.0128108738011512\n",
            "Epoch 23  Loss: 0.012183359291100159\n",
            "Epoch 24  Loss: 0.011612602717148878\n",
            "Epoch 25  Loss: 0.011091379199381222\n",
            "Epoch 26  Loss: 0.010613616078473984\n",
            "Epoch 27  Loss: 0.010174176919678726\n",
            "Epoch 28  Loss: 0.009768691240231827\n",
            "Epoch 29  Loss: 0.009393419352470803\n",
            "Epoch 30  Loss: 0.00904514434309856\n",
            "Epoch 31  Loss: 0.008721085157949145\n",
            "Epoch 32  Loss: 0.008418826210720808\n",
            "Epoch 33  Loss: 0.008136260015141504\n",
            "Epoch 34  Loss: 0.0078715401496146\n",
            "Epoch 35  Loss: 0.007623042472541311\n",
            "Epoch 36  Loss: 0.007389332967277793\n",
            "Epoch 37  Loss: 0.0071691409462315\n",
            "Epoch 38  Loss: 0.006961336611937774\n",
            "Epoch 39  Loss: 0.006764912179676394\n",
            "Epoch 40  Loss: 0.006578965926461511\n",
            "Epoch 41  Loss: 0.006402688656299242\n",
            "Epoch 42  Loss: 0.006235352169801101\n",
            "Epoch 43  Loss: 0.006076299403804835\n",
            "Epoch 44  Loss: 0.005924935968277826\n",
            "Epoch 45  Loss: 0.005780722857005228\n",
            "Epoch 46  Loss: 0.005643170148095762\n",
            "Epoch 47  Loss: 0.00551183154223971\n",
            "Epoch 48  Loss: 0.005386299612516806\n",
            "Epoch 49  Loss: 0.0052662016606157295\n",
            "Epoch 50  Loss: 0.00515119609155252\n",
            "Epoch 51  Loss: 0.005040969233118272\n",
            "Epoch 52  Loss: 0.004935232537945517\n",
            "Epoch 53  Loss: 0.004833720115726274\n",
            "Epoch 54  Loss: 0.0047361865511218\n",
            "Epoch 55  Loss: 0.004642404969574147\n",
            "Epoch 56  Loss: 0.004552165318803284\n",
            "Epoch 57  Loss: 0.004465272838447403\n",
            "Epoch 58  Loss: 0.004381546694234256\n",
            "Epoch 59  Loss: 0.004300818756385544\n",
            "Epoch 60  Loss: 0.004222932504761096\n",
            "Epoch 61  Loss: 0.004147742045627383\n",
            "Epoch 62  Loss: 0.00407511122695772\n",
            "Epoch 63  Loss: 0.004004912840896541\n",
            "Epoch 64  Loss: 0.003937027903494588\n",
            "Epoch 65  Loss: 0.0038713450030854646\n",
            "Epoch 66  Loss: 0.003807759709759906\n",
            "Epoch 67  Loss: 0.0037461740393286563\n",
            "Epoch 68  Loss: 0.003686495965971571\n",
            "Epoch 69  Loss: 0.0036286389784687227\n",
            "Epoch 70  Loss: 0.0035725216755135227\n",
            "Epoch 71  Loss: 0.0035180673961341525\n",
            "Epoch 72  Loss: 0.0034652038817058906\n",
            "Epoch 73  Loss: 0.003413862966436849\n",
            "Epoch 74  Loss: 0.00336398029355747\n",
            "Epoch 75  Loss: 0.0033154950547497676\n",
            "Epoch 76  Loss: 0.0032683497506201782\n",
            "Epoch 77  Loss: 0.003222489970254599\n",
            "Epoch 78  Loss: 0.0031778641881023318\n",
            "Epoch 79  Loss: 0.0031344235766178614\n",
            "Epoch 80  Loss: 0.003092121833250836\n",
            "Epoch 81  Loss: 0.0030509150205181514\n",
            "Epoch 82  Loss: 0.0030107614180181906\n",
            "Epoch 83  Loss: 0.0029716213853603264\n",
            "Epoch 84  Loss: 0.0029334572350825316\n",
            "Epoch 85  Loss: 0.002896233114719537\n",
            "Epoch 86  Loss: 0.002859914897263253\n",
            "Epoch 87  Loss: 0.0028244700793286464\n",
            "Epoch 88  Loss: 0.002789867686401605\n",
            "Epoch 89  Loss: 0.002756078184602756\n",
            "Epoch 90  Loss: 0.002723073398451968\n",
            "Epoch 91  Loss: 0.0026908264341649517\n",
            "Epoch 92  Loss: 0.002659311608054063\n",
            "Epoch 93  Loss: 0.0026285043796434367\n",
            "Epoch 94  Loss: 0.002598381289141872\n",
            "Epoch 95  Loss: 0.00256891989894735\n",
            "Epoch 96  Loss: 0.002540098738884952\n",
            "Epoch 97  Loss: 0.0025118972549043285\n",
            "Epoch 98  Loss: 0.002484295760986156\n",
            "Epoch 99  Loss: 0.0024572753940269045\n",
            "time: 1min 7s (started: 2025-01-13 09:15:02 +00:00)\n"
          ]
        }
      ],
      "source": [
        "X = X_train\n",
        "Y = Y_train\n",
        "loss_list = []\n",
        "epoch_list = []\n",
        "num_of_examples = X_train.shape[1]\n",
        "\n",
        "for i in range(epochs):\n",
        "  avg_epoch_loss = 0\n",
        "  for j in range(num_of_examples):\n",
        "    # TODO :  Forward propagation\n",
        "\n",
        "    Z1 = np.matmul(W1,X[:,j])+b1.flatten() # DO NOT FORGET TO ADD THE BIAS\n",
        "    A1 =sigmoid(Z1)\n",
        "    Z2 = np.matmul(W2,A1)+b2.flatten()\n",
        "    A2 =sigmoid(Z2)\n",
        "    Yout = float(Y[j])\n",
        "\n",
        "    # TODO: Compute loss\n",
        "    loss = log_loss( A2, Yout)\n",
        "    avg_epoch_loss = avg_epoch_loss + loss\n",
        "\n",
        "    # # TODO: Back propagation\n",
        "    dZ2 = (A2-Yout)\n",
        "    dW2 =np.outer(dZ2, A1)\n",
        "    db2 = dZ2\n",
        "\n",
        "    dA1 = np.dot(W2.T, dZ2)\n",
        "    dZ1 = dA1 * A1 * (1 - A1) # Sigmoid derivative\n",
        "    dW1 = np.outer(dZ1, X[:, j].reshape(1,-1)) # reshape X[:,j]\n",
        "    db1 =  dZ1.reshape(-1, 1)\n",
        "\n",
        "    # TODO: Update weights\n",
        "    W2-= learning_rate * dW2\n",
        "    b2 -= learning_rate * db2\n",
        "    W1 -= learning_rate * dW1\n",
        "    b1 -= learning_rate * db1\n",
        "\n",
        "  avg_epoch_loss = avg_epoch_loss/num_of_examples\n",
        "  loss_list.append(avg_epoch_loss)\n",
        "  epoch_list.append(i)\n",
        "  print(\"Epoch\", i,\" Loss:\", avg_epoch_loss)"
      ]
    },
    {
      "cell_type": "markdown",
      "metadata": {
        "id": "TdgCk97534-B"
      },
      "source": [
        "### Loss Visualization"
      ]
    },
    {
      "cell_type": "code",
      "execution_count": null,
      "metadata": {
        "colab": {
          "base_uri": "https://localhost:8080/",
          "height": 484
        },
        "id": "RFo9NN5Q31X8",
        "outputId": "cebacd93-fdc5-424b-fed7-2406ceefafa8"
      },
      "outputs": [
        {
          "output_type": "execute_result",
          "data": {
            "text/plain": [
              "[<matplotlib.lines.Line2D at 0x7f3a89f75f90>]"
            ]
          },
          "metadata": {},
          "execution_count": 59
        },
        {
          "output_type": "display_data",
          "data": {
            "text/plain": [
              "<Figure size 640x480 with 1 Axes>"
            ],
            "image/png": "[encoded data removed]"
          },
          "metadata": {}
        },
        {
          "output_type": "stream",
          "name": "stdout",
          "text": [
            "time: 208 ms (started: 2025-01-13 09:16:12 +00:00)\n"
          ]
        }
      ],
      "source": [
        "import matplotlib.pyplot as plt\n",
        "plt.xlabel('Epoch Number')\n",
        "plt.ylabel(\"Loss\")\n",
        "plt.plot(epoch_list, loss_list)"
      ]
    },
    {
      "cell_type": "markdown",
      "metadata": {
        "id": "5HV5g7j92Xfn"
      },
      "source": [
        "## Results"
      ]
    },
    {
      "cell_type": "markdown",
      "metadata": {
        "id": "raBFclM5ploH"
      },
      "source": [
        "### Test your performance (20%)"
      ]
    },
    {
      "cell_type": "code",
      "execution_count": null,
      "metadata": {
        "colab": {
          "base_uri": "https://localhost:8080/"
        },
        "id": "flfh-luxDs7Z",
        "outputId": "e7c07321-fc5f-410e-ee1e-b394dfbcb7ed"
      },
      "outputs": [
        {
          "output_type": "stream",
          "name": "stdout",
          "text": [
            "[[100   0]\n",
            " [  0 100]]\n",
            "time: 13.6 ms (started: 2025-01-13 09:16:16 +00:00)\n"
          ]
        }
      ],
      "source": [
        "#TODO: Forward batch of examples\n",
        "X = X_test\n",
        "Y = Y_test\n",
        "\n",
        "Z1 = np.matmul(W1, X_test) + b1\n",
        "A1 = sigmoid(Z1)\n",
        "Z2 = np.matmul(W2, A1) + b2\n",
        "A2 = sigmoid(Z2)\n",
        "\n",
        "\n",
        "predictions = np.zeros((1,Y.shape[0]))\n",
        "labels = np.zeros((1,Y.shape[0]))\n",
        "\n",
        "# Check your predictions against the test's labels\n",
        "for i in range(Y.shape[0]):\n",
        "  if (A2[0,i] > 0.5):\n",
        "    predictions[0,i] = 1\n",
        "  labels[0,i] = Y[i,0]\n",
        "\n",
        "\n",
        "# Print the confusion matrix In order to test your performance\n",
        "print(confusion_matrix(predictions.T, labels.T))"
      ]
    },
    {
      "cell_type": "markdown",
      "metadata": {
        "id": "7FtZr0EQBlcm"
      },
      "source": [
        "### Visualize the results"
      ]
    },
    {
      "cell_type": "code",
      "execution_count": null,
      "metadata": {
        "colab": {
          "base_uri": "https://localhost:8080/",
          "height": 1000
        },
        "id": "gAj_5W2wVUrI",
        "outputId": "949a20f6-6c8a-492f-dd4a-16477cc7e2a3"
      },
      "outputs": [
        {
          "output_type": "display_data",
          "data": {
            "text/plain": [
              "<Figure size 640x480 with 1 Axes>"
            ],
            "image/png": "[encoded data removed]"
          },
          "metadata": {}
        },
        {
          "output_type": "stream",
          "name": "stdout",
          "text": [
            "Real= 0 Predicted= [0.00012356]\n"
          ]
        },
        {
          "output_type": "display_data",
          "data": {
            "text/plain": [
              "<Figure size 640x480 with 1 Axes>"
            ],
            "image/png": "[encoded data removed]"
          },
          "metadata": {}
        },
        {
          "output_type": "stream",
          "name": "stdout",
          "text": [
            "Real= 0 Predicted= [0.02227679]\n"
          ]
        },
        {
          "output_type": "display_data",
          "data": {
            "text/plain": [
              "<Figure size 640x480 with 1 Axes>"
            ],
            "image/png": "[encoded data removed]"
          },
          "metadata": {}
        },
        {
          "output_type": "stream",
          "name": "stdout",
          "text": [
            "Real= 1 Predicted= [0.99832028]\n"
          ]
        },
        {
          "output_type": "display_data",
          "data": {
            "text/plain": [
              "<Figure size 640x480 with 1 Axes>"
            ],
            "image/png": "[encoded data removed]"
          },
          "metadata": {}
        },
        {
          "output_type": "stream",
          "name": "stdout",
          "text": [
            "Real= 1 Predicted= [0.97456987]\n"
          ]
        },
        {
          "output_type": "display_data",
          "data": {
            "text/plain": [
              "<Figure size 640x480 with 1 Axes>"
            ],
            "image/png": "[encoded data removed]"
          },
          "metadata": {}
        },
        {
          "output_type": "stream",
          "name": "stdout",
          "text": [
            "Real= 0 Predicted= [0.00268352]\n"
          ]
        },
        {
          "output_type": "display_data",
          "data": {
            "text/plain": [
              "<Figure size 640x480 with 1 Axes>"
            ],
            "image/png": "[encoded data removed]"
          },
          "metadata": {}
        },
        {
          "output_type": "stream",
          "name": "stdout",
          "text": [
            "Real= 0 Predicted= [0.30936352]\n"
          ]
        },
        {
          "output_type": "display_data",
          "data": {
            "text/plain": [
              "<Figure size 640x480 with 1 Axes>"
            ],
            "image/png": "[encoded data removed]"
          },
          "metadata": {}
        },
        {
          "output_type": "stream",
          "name": "stdout",
          "text": [
            "Real= 1 Predicted= [0.99999521]\n"
          ]
        },
        {
          "output_type": "display_data",
          "data": {
            "text/plain": [
              "<Figure size 640x480 with 1 Axes>"
            ],
            "image/png": "[encoded data removed]"
          },
          "metadata": {}
        },
        {
          "output_type": "stream",
          "name": "stdout",
          "text": [
            "Real= 0 Predicted= [0.00620852]\n"
          ]
        },
        {
          "output_type": "display_data",
          "data": {
            "text/plain": [
              "<Figure size 640x480 with 1 Axes>"
            ],
            "image/png": "[encoded data removed]"
          },
          "metadata": {}
        },
        {
          "output_type": "stream",
          "name": "stdout",
          "text": [
            "Real= 1 Predicted= [0.99998129]\n"
          ]
        },
        {
          "output_type": "display_data",
          "data": {
            "text/plain": [
              "<Figure size 640x480 with 1 Axes>"
            ],
            "image/png": "[encoded data removed]"
          },
          "metadata": {}
        },
        {
          "output_type": "stream",
          "name": "stdout",
          "text": [
            "Real= 0 Predicted= [0.00136285]\n",
            "time: 709 ms (started: 2025-01-13 09:16:29 +00:00)\n"
          ]
        }
      ],
      "source": [
        "#TODO: SHOW VISUALLY RESULTS ON 10 TEST EXAMPLES\n",
        "%matplotlib inline\n",
        "from numpy import random\n",
        "for example in range(10):\n",
        "  i = random.randint(200)\n",
        "  plt.imshow(X_test[:,i].reshape(28,28), cmap = matplotlib.cm.binary)\n",
        "  plt.axis(\"off\")\n",
        "  plt.show()\n",
        "  Y_test[i,0]\n",
        "\n",
        "  # TODO :  Forward propagation\n",
        "  Z1 = np.matmul(W1, X_test[:, i]) + b1.flatten()\n",
        "  A1 = sigmoid(Z1)\n",
        "  Z2 = np.matmul(W2, A1) + b2.flatten()\n",
        "  A2 = sigmoid(Z2)\n",
        "  Yout = Y[i,0]\n",
        "  print(\"Real=\", Y_test[i,0], \"Predicted=\",A2)"
      ]
    }
  ],
  "metadata": {
    "accelerator": "GPU",
    "colab": {
      "gpuType": "T4",
      "provenance": []
    },
    "kernelspec": {
      "display_name": "Python 3",
      "name": "python3"
    },
    "language_info": {
      "name": "python"
    }
  },
  "nbformat": 4,
  "nbformat_minor": 0
}